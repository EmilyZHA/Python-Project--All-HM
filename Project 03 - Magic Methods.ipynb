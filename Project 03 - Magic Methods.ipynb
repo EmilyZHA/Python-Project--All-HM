{
 "cells": [
  {
   "cell_type": "markdown",
   "metadata": {},
   "source": [
    "<div>\n",
    "    <img src=\"images/emlyon.png\" style=\"height:60px; float:left; padding-right:10px; margin-top:5px\" />\n",
    "    <span>\n",
    "        <h1 style=\"padding-bottom:5px;\"> Python BootCamp </h1>\n",
    "        <a href=\"https://masters.em-lyon.com/en/msc-in-digital-marketing-data-science\">[Emlyon]</a> MSc in Digital Marketing & Data Science (DMDS) <br/>\n",
    "         September 2023, Paris | © Saeed VARASTEH [RP] | Jean SAVINIEN\n",
    "    </span>\n",
    "</div>"
   ]
  },
  {
   "cell_type": "markdown",
   "metadata": {},
   "source": [
    "<div class=\"alert-info\" style=\"border-bottom: solid 1px lightgray; background-color:#fff4e3;\">\n",
    "    <img src=\"images/homework.png\" style=\"height:60px; float:left; padding-right:10px;\" />\n",
    "    <span style=\"font-weight:bold; color:#db9425\">\n",
    "        <h4 style=\"padding-top:25px;\"> HOMEWORK 03 </h4>\n",
    "    </span>\n",
    "</div>"
   ]
  },
  {
   "cell_type": "markdown",
   "metadata": {},
   "source": [
    "Make sure you read all the readings and content from the lectures on Brightspace.\n",
    "\n",
    "If you have worked with anyone, please enter their names below:"
   ]
  },
  {
   "cell_type": "code",
   "execution_count": 1,
   "metadata": {},
   "outputs": [],
   "source": [
    "Names = \"\""
   ]
  },
  {
   "cell_type": "markdown",
   "metadata": {},
   "source": [
    "### Homework 03 - Magic Methods\n",
    "\n",
    "---"
   ]
  },
  {
   "cell_type": "markdown",
   "metadata": {},
   "source": [
    "A vector can be described as a collection of numbers, e.g. (3,5,1). In two-dimensional vectors (vectors which only have two elements), the first one is often referred to as __x__ and the second as __y__.\n",
    "\n",
    "When you add two vectors __u__ and __v__, you again get a vector whose elements are the sum of the elements of __u__ and __v__ at the same index. For example: (1,4)+(3,2)=(1+3,4+2)=(4,6). This is also called \"element-wise addition\".\n",
    "\n",
    "We would like to use the magic method __\\_\\_add\\_\\___ to achieve this behavior in Python. Complete the template of the class `Vector2D` given below.\n",
    "\n",
    "Remember: Magic methods or dunder methods are methods that when implemented can be used in some implicit contexts. For example, if a class implements __\\_\\_add\\_\\___, two instances of this class can be added using the inline operator `+`. You can identify magic methods by the double underscores surrounding them.\n",
    "\n",
    "- First, you need to implement the constructor. It is given the x and y values of the vector, which we need to store in attributes.\n",
    "- Next, implement the magic method __\\_\\_add\\_\\___. Besides `self`, it is given the other vector that is supposed to be added to the first one. It should return their sum, which itself is a Vector2D.\n",
    "- Lastly, we want to be able to print a Vector2D, just like we can print tuples or lists. For this, the __\\_\\_str\\_\\___ method is responsible - it gets called whenever Python tries to convert an object to a string. It should return a string representing the object in some way."
   ]
  },
  {
   "cell_type": "code",
   "execution_count": 10,
   "metadata": {},
   "outputs": [
    {
     "name": "stdout",
     "output_type": "stream",
     "text": [
      "(28,44)\n"
     ]
    }
   ],
   "source": [
    "class Vector2D:\n",
    "    def __init__(self, x, y):\n",
    "        # your code\n",
    "        self.x = x\n",
    "        self.y = y\n",
    "    \n",
    "    def __add__(self, other_vector):\n",
    "         \n",
    "        new_x = self.x + other_vector.x\n",
    "        new_y = self.y + other_vector.y\n",
    "        return Vector2D(new_x, new_y)\n",
    "            \n",
    "    \n",
    "    # add __str__ method here \n",
    "    def __str__(self):\n",
    "        return f'({self.x},{self.y})'\n",
    "        \n",
    "        \n",
    "        \n",
    "# Testing\n",
    "u = Vector2D(10,12)\n",
    "v = Vector2D(18,32)\n",
    "\n",
    "print(u + v)\n",
    "\n",
    "# Expected Output\n",
    "# Vector2D(28,44)"
   ]
  },
  {
   "cell_type": "markdown",
   "metadata": {},
   "source": [
    "---"
   ]
  },
  {
   "cell_type": "code",
   "execution_count": null,
   "metadata": {},
   "outputs": [],
   "source": []
  }
 ],
 "metadata": {
  "kernelspec": {
   "display_name": "Python 3 (ipykernel)",
   "language": "python",
   "name": "python3"
  },
  "language_info": {
   "codemirror_mode": {
    "name": "ipython",
    "version": 3
   },
   "file_extension": ".py",
   "mimetype": "text/x-python",
   "name": "python",
   "nbconvert_exporter": "python",
   "pygments_lexer": "ipython3",
   "version": "3.11.4"
  }
 },
 "nbformat": 4,
 "nbformat_minor": 2
}
