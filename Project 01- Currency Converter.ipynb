{
 "cells": [
  {
   "cell_type": "markdown",
   "metadata": {},
   "source": [
    "<div>\n",
    "    <img src=\"images/emlyon.png\" style=\"height:60px; float:left; padding-right:10px; margin-top:5px\" />\n",
    "    <span>\n",
    "        <h1 style=\"padding-bottom:5px;\"> Python BootCamp </h1>\n",
    "        <a href=\"https://masters.em-lyon.com/en/msc-in-digital-marketing-data-science\">[Emlyon]</a> MSc in Digital Marketing & Data Science (DMDS) <br/>\n",
    "         September 2023, Paris | © Saeed VARASTEH [RP] | Jean SAVINIEN\n",
    "    </span>\n",
    "</div>"
   ]
  },
  {
   "cell_type": "markdown",
   "metadata": {},
   "source": [
    "<div class=\"alert-info\" style=\"border-bottom: solid 1px lightgray; background-color:#fff4e3;\">\n",
    "    <img src=\"images/homework.png\" style=\"height:60px; float:left; padding-right:10px;\" />\n",
    "    <span style=\"font-weight:bold; color:#db9425\">\n",
    "        <h4 style=\"padding-top:25px;\"> HOMEWORK 01 </h4>\n",
    "    </span>\n",
    "</div>"
   ]
  },
  {
   "cell_type": "markdown",
   "metadata": {},
   "source": [
    "Make sure you read all the readings and content from the lectures on Brightspace.\n",
    "\n",
    "If you have worked with anyone, please enter their names below:"
   ]
  },
  {
   "cell_type": "code",
   "execution_count": 31,
   "metadata": {},
   "outputs": [],
   "source": [
    "Names = \"\""
   ]
  },
  {
   "cell_type": "markdown",
   "metadata": {},
   "source": [
    "To make it easier for us to mark your work, here are some guidelines that you should read and follow carefully.\n",
    "\n",
    "**Read the instructions carefully**: The instructions for your code are very important. If you don't follow them, your application won't do what you want it to do. Getting it to work properly is part of learning to code.\n",
    "\n",
    "**Indentation**: In Python, indentation is important and must be consistent. If you write your code in the notebook, the __tab__ key will indent properly. \n",
    "\n",
    "**Variable names**: There's a culture in Python of making everything readable. Don't use \"x\" and \"y\" for variable names. Use words like \"pounds\" and \"kilograms\".  It will be easier for colleagues (and yourself) to understand the code later.\n",
    "\n",
    "**Comments** Please comment your code as much as you can."
   ]
  },
  {
   "cell_type": "markdown",
   "metadata": {},
   "source": [
    "### Homework 01 - Currency Converter\n",
    "\n",
    "---"
   ]
  },
  {
   "cell_type": "markdown",
   "metadata": {},
   "source": [
    "Consider money that you need to convert into another currency. \n",
    "\n",
    "We will ask you to code a converter function by asking the user to give an input value and specify the conversion he or she wants to make (from the source currency to the target currency)."
   ]
  },
  {
   "cell_type": "markdown",
   "metadata": {},
   "source": [
    "#### Step one"
   ]
  },
  {
   "cell_type": "markdown",
   "metadata": {},
   "source": [
    "Let's assume you are a user who wants to convert money from EUR to YEN (Japanese currency).\n",
    "\n",
    "Please take the currency value to be 1 EUR = 157.58 YEN\n",
    "\n",
    "Write a code that: \n",
    "\n",
    "* (1) Asks from the user for an input\n",
    "    - This value will be considered to be in EUR.\n",
    "* (2) Call your converter fCheck the value and raise an error if it is not a numerical or positive value.\n",
    "    - All your error messages must start with \"Error: \"\n",
    "    - On error, the function returns -1.unction with this value.\n",
    "* (3) \n",
    "* (4) Then calculates the value in YEN. \n",
    "* (5) Return the result."
   ]
  },
  {
   "cell_type": "code",
   "execution_count": 4,
   "metadata": {},
   "outputs": [
    {
     "name": "stdout",
     "output_type": "stream",
     "text": [
      "Enter a value in EUR to be converted to YEN:10\n",
      "Your input is equal to 1575.8000000000002 YEN.\n"
     ]
    }
   ],
   "source": [
    "def currency_converter(value):\n",
    "    \n",
    "    error_message = 'Error: your value should be a positive number'\n",
    "    ### (3) your code here\n",
    "  \n",
    "    try:\n",
    "        if float(value)<=0:# if user input is negative or zero, raise an error\n",
    "            print(error_message)\n",
    "            return -1\n",
    "    except:\n",
    "        print(error_message)# if there is any error occur,raise an error\n",
    "        return -1\n",
    "    else:\n",
    "        conversion=float(value)*157.58\n",
    "         \n",
    "    ### (5) \n",
    "        return conversion\n",
    "prompt = 'Enter a value in EUR to be converted to YEN:'\n",
    "\n",
    "### (1) your code here\n",
    "user_input = input(prompt)\n",
    "\n",
    "output=currency_converter(user_input)###2\n",
    "\n",
    "print(f\"Your input is equal to {output} YEN.\")\n"
   ]
  },
  {
   "cell_type": "markdown",
   "metadata": {},
   "source": [
    "#### Step two"
   ]
  },
  {
   "cell_type": "markdown",
   "metadata": {},
   "source": [
    "Let's now consider multiple options of conversion from one currency to another one. \n",
    "\n",
    "Create a function that takes two inputs:\n",
    "\n",
    "- the `value` (in EUR) to be converted.\n",
    "- the final `currency` for which you need to know the value.\n",
    "\n",
    "For this exercise, you will consider the following currencies: YEN / USD / CAD / GBP / INR\n",
    "\n",
    "The conversion rates are: \n",
    "\n",
    "- 1 EUR = 157.58 YEN\n",
    "- 1 EUR = 0.99 USD\n",
    "- 1 EUR = 1.35 CAD\n",
    "- 1 EUR = 0.86 GBP \n",
    "- 1 EUR = 81.90 INR\n",
    "\n",
    "**When asking for inputs from the user, please stick to upper case letters**"
   ]
  },
  {
   "cell_type": "code",
   "execution_count": 1,
   "metadata": {},
   "outputs": [
    {
     "name": "stdout",
     "output_type": "stream",
     "text": [
      "Please enter a value in EUR:10\n",
      "Please enter the currency converted to(YEN / USD / CAD / GBP / INR)USD\n",
      "Your input is equal to 9.9 USD.\n"
     ]
    }
   ],
   "source": [
    "def currency_converter2(value, currency):\n",
    "\n",
    "    error_message = 'Error: your value should be a positive number'\n",
    "    error_message2 = 'Error: select one of the given currencies (YEN / USD / CAD / GBP / INR)'\n",
    "\n",
    "    ### your code here\n",
    "    currency_list=['YEN','USD','CAD','GBP','INR']\n",
    "    exchange_list={'YEN':157.58,'USD':0.99,'CAD':1.35,'GBP':0.86,'INR':81.90}# all currency and change rate \n",
    "    try:\n",
    "        if float(value)<=0 or str(value).isalpha ==True: # if input is negative or alpha, raise an error\n",
    "            print(error_message)\n",
    "            return -1\n",
    "        if currency not in currency_list: \n",
    "            print(error_message2)\n",
    "            return -1 \n",
    "    except:# if any error occurs, raise an error\n",
    "            print(error_message)\n",
    "    else:\n",
    "        conversion = float(value)*exchange_list[currency]\n",
    "        return conversion\n",
    "euro_amount = input('Please enter a value in EUR:')\n",
    "currency_choice = input('Please enter the currency converted to(YEN / USD / CAD / GBP / INR)').upper()\n",
    "output = currency_converter2(euro_amount, currency_choice)\n",
    "currency=currency_choice\n",
    "\n",
    "\n",
    "print(f\"Your input is equal to {output} {currency}.\")"
   ]
  },
  {
   "cell_type": "markdown",
   "metadata": {},
   "source": [
    "More tests:"
   ]
  },
  {
   "cell_type": "code",
   "execution_count": null,
   "metadata": {},
   "outputs": [],
   "source": [
    "input1 = 12\n",
    "input2 = 'GBP'\n",
    "currency_converter2(input1, input2)"
   ]
  },
  {
   "cell_type": "code",
   "execution_count": null,
   "metadata": {},
   "outputs": [],
   "source": [
    "input1 = 30.45\n",
    "input2 = 'INR'\n",
    "currency_converter2(input1, input2)"
   ]
  },
  {
   "cell_type": "markdown",
   "metadata": {},
   "source": [
    "#### Step three"
   ]
  },
  {
   "cell_type": "markdown",
   "metadata": {},
   "source": [
    "In this last step, you will extend the programme you're programming once again! \n",
    "\n",
    "**Now you will not only consider one input currency, but any input currency.**\n",
    "\n",
    "This means that the user will have to specify which currency the input is in, and he or she will also have to specify the output currency.\n",
    "\n",
    "So here is what you need to do:\n",
    "\n",
    "- Add another input from the user specifying the input or initial currency.\n",
    "\n",
    "**Take time before coding to consider all the ways of converting from one currency to another.** \n",
    "\n",
    "Concerning the conversion rates, use the ones given in step 2. "
   ]
  },
  {
   "cell_type": "code",
   "execution_count": 6,
   "metadata": {
    "scrolled": true
   },
   "outputs": [
    {
     "name": "stdout",
     "output_type": "stream",
     "text": [
      "Please enter the converted currency(YEN / USD / CAD / GBP / INR / EUR):EUR\n",
      "Please enter the currency which convert to  (YEN / USD / CAD / GBP / INR / EUR)USD\n",
      "Please enter convert amount:10\n",
      "Your input in EUR, is equal to 9.9 USD.\n"
     ]
    }
   ],
   "source": [
    "def currency_converter3(value, currency1, currency2):\n",
    "\n",
    "    error_message = 'Error: your value should be a positive number'\n",
    "    error_message2 = 'Error: select one of the given currencies (YEN / USD / CAD / GBP / INR)'\n",
    "\n",
    "    ### your code here\n",
    "    currency_list=['YEN','USD','CAD','GBP','INR','EUR']\n",
    "    exchange_list={('EUR','YEN'):157.58,\n",
    "                   ('EUR','USD'):0.99,\n",
    "                   ('EUR','CAD'):1.35,\n",
    "                   ('EUR','GBP'):0.86,\n",
    "                   ('EUR','INR'):81.9,\n",
    "                   ('YEN','EUR'):0.006,\n",
    "                   ('YEN','USD'):0.006,\n",
    "                   ('YEN','CAD'):0.009,\n",
    "                   ('YEN','GBP'):0.005,\n",
    "                   ('YEN','INR'):0.52,\n",
    "                   ('USD','EUR'):1.01,\n",
    "                   ('USD','YEN'):159.17,\n",
    "                   ('USD','CAD'):1.36,\n",
    "                   ('USD','GBP'):0.87,\n",
    "                   ('USD','INR'):82.73,\n",
    "                   ('CAD','EUR'):0.74,\n",
    "                   ('CAD','YEN'):116.73,\n",
    "                   ('CAD','USD'):0.73,\n",
    "                   ('CAD','GBP'):0.64,\n",
    "                   ('CAD','INR'):60.67,\n",
    "                   ('GBP','EUR'):1.16,\n",
    "                   ('GBP','YEN'):183.23,\n",
    "                   ('GBP','USD'):1.15,\n",
    "                   ('GBP','CAD'):1.57,\n",
    "                   ('GBP','INR'):95.23,\n",
    "                   ('INR','EUR'):0.01,\n",
    "                   ('INR','YEN'):1.924,\n",
    "                   ('INR','USD'):0.012,\n",
    "                   ('INR','CAD'):0.016,\n",
    "                   ('INR','GBP'):0.011\n",
    "                  }\n",
    "  \n",
    "    try:\n",
    "        if float(value)<=0 or str(value).isalpha ==True: # if input is negative or alpha, raise error\n",
    "            print(error_message)\n",
    "            return -1\n",
    "        if currency1 not in currency_list or currency2 not in currency_list:\n",
    "            print(error_message2)\n",
    "            return -1 \n",
    "    except:\n",
    "            print(error_message)\n",
    "    else:\n",
    "        conversion = float(value)*exchange_list[currency1,currency2]\n",
    "        return conversion\n",
    "\n",
    "currency_converter1=input('Please enter the converted currency(YEN / USD / CAD / GBP / INR / EUR):').upper()\n",
    "currency_converter2=input('Please enter the currency which convert to  (YEN / USD / CAD / GBP / INR / EUR):').upper()\n",
    "euro_amount=input('Please enter convert amount:')\n",
    "output=currency_converter3(euro_amount, currency_converter1,currency_converter2)\n",
    "\n",
    "\n",
    "\n",
    "print(f\"Your input in {currency_converter1}, is equal to {output} {currency_converter2}.\")\n",
    "    \n",
    "    \n"
   ]
  },
  {
   "cell_type": "markdown",
   "metadata": {},
   "source": [
    "---"
   ]
  }
 ],
 "metadata": {
  "kernelspec": {
   "display_name": "Python 3 (ipykernel)",
   "language": "python",
   "name": "python3"
  },
  "language_info": {
   "codemirror_mode": {
    "name": "ipython",
    "version": 3
   },
   "file_extension": ".py",
   "mimetype": "text/x-python",
   "name": "python",
   "nbconvert_exporter": "python",
   "pygments_lexer": "ipython3",
   "version": "3.11.4"
  }
 },
 "nbformat": 4,
 "nbformat_minor": 2
}
