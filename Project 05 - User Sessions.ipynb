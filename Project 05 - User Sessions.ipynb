{
 "cells": [
  {
   "cell_type": "markdown",
   "metadata": {},
   "source": [
    "<div>\n",
    "    <img src=\"images/emlyon.png\" style=\"height:60px; float:left; padding-right:10px; margin-top:5px\" />\n",
    "    <span>\n",
    "        <h1 style=\"padding-bottom:5px;\"> Python BootCamp </h1>\n",
    "        <a href=\"https://masters.em-lyon.com/en/msc-in-digital-marketing-data-science\">[Emlyon]</a> MSc in Digital Marketing & Data Science (DMDS) <br/>\n",
    "         September 2023, Paris | © Saeed VARASTEH [RP] | Jean SAVINIEN\n",
    "    </span>\n",
    "</div>"
   ]
  },
  {
   "cell_type": "markdown",
   "metadata": {},
   "source": [
    "<div class=\"alert-info\" style=\"border-bottom: solid 1px lightgray; background-color:#fff4e3;\">\n",
    "    <img src=\"images/homework.png\" style=\"height:60px; float:left; padding-right:10px;\" />\n",
    "    <span style=\"font-weight:bold; color:#db9425\">\n",
    "        <h4 style=\"padding-top:25px;\"> HOMEWORK 05 </h4>\n",
    "    </span>\n",
    "</div>"
   ]
  },
  {
   "cell_type": "markdown",
   "metadata": {},
   "source": [
    "Make sure you read all the readings and content from the lectures on Brightspace.\n",
    "\n",
    "If you have worked with anyone, please enter their names below:"
   ]
  },
  {
   "cell_type": "code",
   "execution_count": 1,
   "metadata": {},
   "outputs": [],
   "source": [
    "Names = \"\""
   ]
  },
  {
   "cell_type": "markdown",
   "metadata": {},
   "source": [
    "<div class=\"alert-info\"> You can download the data you need for this exercise here: <a href=\"https://www.dropbox.com/scl/fi/bdh8iiq7tg1m7zl881mrl/session.zip?rlkey=z9rv16b9zw94eyukm4jsoxzey&dl=0\"> Session Data </a> </div>"
   ]
  },
  {
   "cell_type": "markdown",
   "metadata": {},
   "source": [
    "### Homework 05 - User Sessions\n",
    "\n",
    "---"
   ]
  },
  {
   "cell_type": "markdown",
   "metadata": {},
   "source": [
    "The aim of this exercise is to assess your ability to apply your theoretical knowledge to a practical case in the universe of online advertising.\n",
    "\n",
    "Our aim is to do some __exploratory data analysis (EDA)__, not modelling."
   ]
  },
  {
   "cell_type": "markdown",
   "metadata": {},
   "source": [
    "#### Dataset description"
   ]
  },
  {
   "cell_type": "markdown",
   "metadata": {},
   "source": [
    "You will be given two files: __session_clicks.csv__ and __session-buys.csv__.\n",
    "\n",
    "The __session_clicks.csv__ file consists of the clicks made by the users on the items during a session.\n",
    "\n",
    "Each line of the file has the following format `Session ID`, `Timestamp`, `Item ID`, and `Category`\n",
    "\n",
    "- `Session ID`: the unique identifier of the session. A session can have one or more clicks.\n",
    "\n",
    "- `Timestamp`: the date and time when the click occurred. Format of YYYY-MM-DD hh:mm:ss.\n",
    "\n",
    "- `Item ID`: the unique identifier of the clicked item.\n",
    "\n",
    "- `Category`: the context of the click. A number from 0 to 14.\n",
    "    - 0 indicates missing values, a number between 1 and 12 is a category identifier (e.g. sports), 13 indicates a special offer and 14 represents all other brands.\n",
    "\n",
    "The file __session-buys.csv__ consists of the buy events.\n",
    "\n",
    "Each line of the file has the following format `Session ID`, `Timestamp`, `Item ID`, `Price`, and `Quantity`\n",
    "\n",
    "- `Price`: the price of the purchased item.\n",
    "\n",
    "- `Quantity`: the buy quantity."
   ]
  },
  {
   "cell_type": "markdown",
   "metadata": {},
   "source": [
    "__Your Task__\n",
    "\n",
    "Read the datasets and explore the data, create visualisations and look for patterns.\n",
    "\n",
    "You are not given a specific task to do! You are the data analyst, extract as much information as you can from these files based on what you have learned in class. Use Pandas functions, visualisation, etc.\n",
    "\n",
    "Comment/document everything.\n",
    "\n",
    "Here are some steps you can follow to get started:\n",
    "\n",
    "- Read the datasets into two separate dataframes: __clicks__ and __buys__.\n",
    "- Check for missing values.\n",
    "- Check column data types.\n",
    "- Convert the `ts` column to a datetime column.\n",
    "- Use the `ts` column to create some time-based columns such as: `year`, `month`, `day`, `hour`, `week` and `weekday`.\n",
    "- Describe all numerical columns.\n",
    "\n",
    "And here are some questions you can answer: (Add as many questions as you like to this list and try to answer them)\n",
    "\n",
    "- What is the average number of clicks/purchases per hour?\n",
    "- What time of day do people tend to visit/buy more?\n",
    "- What is the average number of clicks/purchases per day of the week in the datasets?\n",
    "- What day of the week do people tend to visit/buy more items?\n",
    "- How many sessions are there per category?\n",
    "- How long is the longest session?\n",
    "- What items were sold in the longest session? When did this happen?\n",
    "- Do longer sessions result in more purchases?\n",
    "- Is there a relationship between session length and number of purchases?\n",
    "- What are the most popular (most sold) items?\n",
    "\n",
    "\n",
    "- What general marketing strategies (in terms of sending promotional emails, site advertising or personalised recommendations) can you think of for this online retailer?"
   ]
  },
  {
   "cell_type": "code",
   "execution_count": 2,
   "metadata": {},
   "outputs": [],
   "source": [
    "import matplotlib.pyplot as plt\n",
    "import seaborn as sns\n",
    "import numpy as np \n",
    "import pandas as pd"
   ]
  },
  {
   "cell_type": "code",
   "execution_count": null,
   "metadata": {},
   "outputs": [],
   "source": []
  },
  {
   "cell_type": "code",
   "execution_count": 9,
   "metadata": {},
   "outputs": [
    {
     "ename": "FileNotFoundError",
     "evalue": "[Errno 2] No such file or directory: 'test/exercises/clicks.csv'",
     "output_type": "error",
     "traceback": [
      "\u001b[1;31m---------------------------------------------------------------------------\u001b[0m",
      "\u001b[1;31mFileNotFoundError\u001b[0m                         Traceback (most recent call last)",
      "Cell \u001b[1;32mIn[9], line 1\u001b[0m\n\u001b[1;32m----> 1\u001b[0m clicks \u001b[38;5;241m=\u001b[39m pd\u001b[38;5;241m.\u001b[39mread_csv(\u001b[38;5;124m\"\u001b[39m\u001b[38;5;124mtest/exercises/clicks.csv\u001b[39m\u001b[38;5;124m\"\u001b[39m) \n\u001b[0;32m      2\u001b[0m \u001b[38;5;28mprint\u001b[39m(\u001b[38;5;124m\"\u001b[39m\u001b[38;5;124mclicks dataset shape\u001b[39m\u001b[38;5;124m\"\u001b[39m,clicks\u001b[38;5;241m.\u001b[39mshape)\n\u001b[0;32m      3\u001b[0m clicks\u001b[38;5;241m.\u001b[39mhead()\n",
      "File \u001b[1;32m~\\anaconda3\\Lib\\site-packages\\pandas\\util\\_decorators.py:211\u001b[0m, in \u001b[0;36mdeprecate_kwarg.<locals>._deprecate_kwarg.<locals>.wrapper\u001b[1;34m(*args, **kwargs)\u001b[0m\n\u001b[0;32m    209\u001b[0m     \u001b[38;5;28;01melse\u001b[39;00m:\n\u001b[0;32m    210\u001b[0m         kwargs[new_arg_name] \u001b[38;5;241m=\u001b[39m new_arg_value\n\u001b[1;32m--> 211\u001b[0m \u001b[38;5;28;01mreturn\u001b[39;00m func(\u001b[38;5;241m*\u001b[39margs, \u001b[38;5;241m*\u001b[39m\u001b[38;5;241m*\u001b[39mkwargs)\n",
      "File \u001b[1;32m~\\anaconda3\\Lib\\site-packages\\pandas\\util\\_decorators.py:331\u001b[0m, in \u001b[0;36mdeprecate_nonkeyword_arguments.<locals>.decorate.<locals>.wrapper\u001b[1;34m(*args, **kwargs)\u001b[0m\n\u001b[0;32m    325\u001b[0m \u001b[38;5;28;01mif\u001b[39;00m \u001b[38;5;28mlen\u001b[39m(args) \u001b[38;5;241m>\u001b[39m num_allow_args:\n\u001b[0;32m    326\u001b[0m     warnings\u001b[38;5;241m.\u001b[39mwarn(\n\u001b[0;32m    327\u001b[0m         msg\u001b[38;5;241m.\u001b[39mformat(arguments\u001b[38;5;241m=\u001b[39m_format_argument_list(allow_args)),\n\u001b[0;32m    328\u001b[0m         \u001b[38;5;167;01mFutureWarning\u001b[39;00m,\n\u001b[0;32m    329\u001b[0m         stacklevel\u001b[38;5;241m=\u001b[39mfind_stack_level(),\n\u001b[0;32m    330\u001b[0m     )\n\u001b[1;32m--> 331\u001b[0m \u001b[38;5;28;01mreturn\u001b[39;00m func(\u001b[38;5;241m*\u001b[39margs, \u001b[38;5;241m*\u001b[39m\u001b[38;5;241m*\u001b[39mkwargs)\n",
      "File \u001b[1;32m~\\anaconda3\\Lib\\site-packages\\pandas\\io\\parsers\\readers.py:950\u001b[0m, in \u001b[0;36mread_csv\u001b[1;34m(filepath_or_buffer, sep, delimiter, header, names, index_col, usecols, squeeze, prefix, mangle_dupe_cols, dtype, engine, converters, true_values, false_values, skipinitialspace, skiprows, skipfooter, nrows, na_values, keep_default_na, na_filter, verbose, skip_blank_lines, parse_dates, infer_datetime_format, keep_date_col, date_parser, dayfirst, cache_dates, iterator, chunksize, compression, thousands, decimal, lineterminator, quotechar, quoting, doublequote, escapechar, comment, encoding, encoding_errors, dialect, error_bad_lines, warn_bad_lines, on_bad_lines, delim_whitespace, low_memory, memory_map, float_precision, storage_options)\u001b[0m\n\u001b[0;32m    935\u001b[0m kwds_defaults \u001b[38;5;241m=\u001b[39m _refine_defaults_read(\n\u001b[0;32m    936\u001b[0m     dialect,\n\u001b[0;32m    937\u001b[0m     delimiter,\n\u001b[1;32m   (...)\u001b[0m\n\u001b[0;32m    946\u001b[0m     defaults\u001b[38;5;241m=\u001b[39m{\u001b[38;5;124m\"\u001b[39m\u001b[38;5;124mdelimiter\u001b[39m\u001b[38;5;124m\"\u001b[39m: \u001b[38;5;124m\"\u001b[39m\u001b[38;5;124m,\u001b[39m\u001b[38;5;124m\"\u001b[39m},\n\u001b[0;32m    947\u001b[0m )\n\u001b[0;32m    948\u001b[0m kwds\u001b[38;5;241m.\u001b[39mupdate(kwds_defaults)\n\u001b[1;32m--> 950\u001b[0m \u001b[38;5;28;01mreturn\u001b[39;00m _read(filepath_or_buffer, kwds)\n",
      "File \u001b[1;32m~\\anaconda3\\Lib\\site-packages\\pandas\\io\\parsers\\readers.py:605\u001b[0m, in \u001b[0;36m_read\u001b[1;34m(filepath_or_buffer, kwds)\u001b[0m\n\u001b[0;32m    602\u001b[0m _validate_names(kwds\u001b[38;5;241m.\u001b[39mget(\u001b[38;5;124m\"\u001b[39m\u001b[38;5;124mnames\u001b[39m\u001b[38;5;124m\"\u001b[39m, \u001b[38;5;28;01mNone\u001b[39;00m))\n\u001b[0;32m    604\u001b[0m \u001b[38;5;66;03m# Create the parser.\u001b[39;00m\n\u001b[1;32m--> 605\u001b[0m parser \u001b[38;5;241m=\u001b[39m TextFileReader(filepath_or_buffer, \u001b[38;5;241m*\u001b[39m\u001b[38;5;241m*\u001b[39mkwds)\n\u001b[0;32m    607\u001b[0m \u001b[38;5;28;01mif\u001b[39;00m chunksize \u001b[38;5;129;01mor\u001b[39;00m iterator:\n\u001b[0;32m    608\u001b[0m     \u001b[38;5;28;01mreturn\u001b[39;00m parser\n",
      "File \u001b[1;32m~\\anaconda3\\Lib\\site-packages\\pandas\\io\\parsers\\readers.py:1442\u001b[0m, in \u001b[0;36mTextFileReader.__init__\u001b[1;34m(self, f, engine, **kwds)\u001b[0m\n\u001b[0;32m   1439\u001b[0m     \u001b[38;5;28mself\u001b[39m\u001b[38;5;241m.\u001b[39moptions[\u001b[38;5;124m\"\u001b[39m\u001b[38;5;124mhas_index_names\u001b[39m\u001b[38;5;124m\"\u001b[39m] \u001b[38;5;241m=\u001b[39m kwds[\u001b[38;5;124m\"\u001b[39m\u001b[38;5;124mhas_index_names\u001b[39m\u001b[38;5;124m\"\u001b[39m]\n\u001b[0;32m   1441\u001b[0m \u001b[38;5;28mself\u001b[39m\u001b[38;5;241m.\u001b[39mhandles: IOHandles \u001b[38;5;241m|\u001b[39m \u001b[38;5;28;01mNone\u001b[39;00m \u001b[38;5;241m=\u001b[39m \u001b[38;5;28;01mNone\u001b[39;00m\n\u001b[1;32m-> 1442\u001b[0m \u001b[38;5;28mself\u001b[39m\u001b[38;5;241m.\u001b[39m_engine \u001b[38;5;241m=\u001b[39m \u001b[38;5;28mself\u001b[39m\u001b[38;5;241m.\u001b[39m_make_engine(f, \u001b[38;5;28mself\u001b[39m\u001b[38;5;241m.\u001b[39mengine)\n",
      "File \u001b[1;32m~\\anaconda3\\Lib\\site-packages\\pandas\\io\\parsers\\readers.py:1735\u001b[0m, in \u001b[0;36mTextFileReader._make_engine\u001b[1;34m(self, f, engine)\u001b[0m\n\u001b[0;32m   1733\u001b[0m     \u001b[38;5;28;01mif\u001b[39;00m \u001b[38;5;124m\"\u001b[39m\u001b[38;5;124mb\u001b[39m\u001b[38;5;124m\"\u001b[39m \u001b[38;5;129;01mnot\u001b[39;00m \u001b[38;5;129;01min\u001b[39;00m mode:\n\u001b[0;32m   1734\u001b[0m         mode \u001b[38;5;241m+\u001b[39m\u001b[38;5;241m=\u001b[39m \u001b[38;5;124m\"\u001b[39m\u001b[38;5;124mb\u001b[39m\u001b[38;5;124m\"\u001b[39m\n\u001b[1;32m-> 1735\u001b[0m \u001b[38;5;28mself\u001b[39m\u001b[38;5;241m.\u001b[39mhandles \u001b[38;5;241m=\u001b[39m get_handle(\n\u001b[0;32m   1736\u001b[0m     f,\n\u001b[0;32m   1737\u001b[0m     mode,\n\u001b[0;32m   1738\u001b[0m     encoding\u001b[38;5;241m=\u001b[39m\u001b[38;5;28mself\u001b[39m\u001b[38;5;241m.\u001b[39moptions\u001b[38;5;241m.\u001b[39mget(\u001b[38;5;124m\"\u001b[39m\u001b[38;5;124mencoding\u001b[39m\u001b[38;5;124m\"\u001b[39m, \u001b[38;5;28;01mNone\u001b[39;00m),\n\u001b[0;32m   1739\u001b[0m     compression\u001b[38;5;241m=\u001b[39m\u001b[38;5;28mself\u001b[39m\u001b[38;5;241m.\u001b[39moptions\u001b[38;5;241m.\u001b[39mget(\u001b[38;5;124m\"\u001b[39m\u001b[38;5;124mcompression\u001b[39m\u001b[38;5;124m\"\u001b[39m, \u001b[38;5;28;01mNone\u001b[39;00m),\n\u001b[0;32m   1740\u001b[0m     memory_map\u001b[38;5;241m=\u001b[39m\u001b[38;5;28mself\u001b[39m\u001b[38;5;241m.\u001b[39moptions\u001b[38;5;241m.\u001b[39mget(\u001b[38;5;124m\"\u001b[39m\u001b[38;5;124mmemory_map\u001b[39m\u001b[38;5;124m\"\u001b[39m, \u001b[38;5;28;01mFalse\u001b[39;00m),\n\u001b[0;32m   1741\u001b[0m     is_text\u001b[38;5;241m=\u001b[39mis_text,\n\u001b[0;32m   1742\u001b[0m     errors\u001b[38;5;241m=\u001b[39m\u001b[38;5;28mself\u001b[39m\u001b[38;5;241m.\u001b[39moptions\u001b[38;5;241m.\u001b[39mget(\u001b[38;5;124m\"\u001b[39m\u001b[38;5;124mencoding_errors\u001b[39m\u001b[38;5;124m\"\u001b[39m, \u001b[38;5;124m\"\u001b[39m\u001b[38;5;124mstrict\u001b[39m\u001b[38;5;124m\"\u001b[39m),\n\u001b[0;32m   1743\u001b[0m     storage_options\u001b[38;5;241m=\u001b[39m\u001b[38;5;28mself\u001b[39m\u001b[38;5;241m.\u001b[39moptions\u001b[38;5;241m.\u001b[39mget(\u001b[38;5;124m\"\u001b[39m\u001b[38;5;124mstorage_options\u001b[39m\u001b[38;5;124m\"\u001b[39m, \u001b[38;5;28;01mNone\u001b[39;00m),\n\u001b[0;32m   1744\u001b[0m )\n\u001b[0;32m   1745\u001b[0m \u001b[38;5;28;01massert\u001b[39;00m \u001b[38;5;28mself\u001b[39m\u001b[38;5;241m.\u001b[39mhandles \u001b[38;5;129;01mis\u001b[39;00m \u001b[38;5;129;01mnot\u001b[39;00m \u001b[38;5;28;01mNone\u001b[39;00m\n\u001b[0;32m   1746\u001b[0m f \u001b[38;5;241m=\u001b[39m \u001b[38;5;28mself\u001b[39m\u001b[38;5;241m.\u001b[39mhandles\u001b[38;5;241m.\u001b[39mhandle\n",
      "File \u001b[1;32m~\\anaconda3\\Lib\\site-packages\\pandas\\io\\common.py:856\u001b[0m, in \u001b[0;36mget_handle\u001b[1;34m(path_or_buf, mode, encoding, compression, memory_map, is_text, errors, storage_options)\u001b[0m\n\u001b[0;32m    851\u001b[0m \u001b[38;5;28;01melif\u001b[39;00m \u001b[38;5;28misinstance\u001b[39m(handle, \u001b[38;5;28mstr\u001b[39m):\n\u001b[0;32m    852\u001b[0m     \u001b[38;5;66;03m# Check whether the filename is to be opened in binary mode.\u001b[39;00m\n\u001b[0;32m    853\u001b[0m     \u001b[38;5;66;03m# Binary mode does not support 'encoding' and 'newline'.\u001b[39;00m\n\u001b[0;32m    854\u001b[0m     \u001b[38;5;28;01mif\u001b[39;00m ioargs\u001b[38;5;241m.\u001b[39mencoding \u001b[38;5;129;01mand\u001b[39;00m \u001b[38;5;124m\"\u001b[39m\u001b[38;5;124mb\u001b[39m\u001b[38;5;124m\"\u001b[39m \u001b[38;5;129;01mnot\u001b[39;00m \u001b[38;5;129;01min\u001b[39;00m ioargs\u001b[38;5;241m.\u001b[39mmode:\n\u001b[0;32m    855\u001b[0m         \u001b[38;5;66;03m# Encoding\u001b[39;00m\n\u001b[1;32m--> 856\u001b[0m         handle \u001b[38;5;241m=\u001b[39m \u001b[38;5;28mopen\u001b[39m(\n\u001b[0;32m    857\u001b[0m             handle,\n\u001b[0;32m    858\u001b[0m             ioargs\u001b[38;5;241m.\u001b[39mmode,\n\u001b[0;32m    859\u001b[0m             encoding\u001b[38;5;241m=\u001b[39mioargs\u001b[38;5;241m.\u001b[39mencoding,\n\u001b[0;32m    860\u001b[0m             errors\u001b[38;5;241m=\u001b[39merrors,\n\u001b[0;32m    861\u001b[0m             newline\u001b[38;5;241m=\u001b[39m\u001b[38;5;124m\"\u001b[39m\u001b[38;5;124m\"\u001b[39m,\n\u001b[0;32m    862\u001b[0m         )\n\u001b[0;32m    863\u001b[0m     \u001b[38;5;28;01melse\u001b[39;00m:\n\u001b[0;32m    864\u001b[0m         \u001b[38;5;66;03m# Binary mode\u001b[39;00m\n\u001b[0;32m    865\u001b[0m         handle \u001b[38;5;241m=\u001b[39m \u001b[38;5;28mopen\u001b[39m(handle, ioargs\u001b[38;5;241m.\u001b[39mmode)\n",
      "\u001b[1;31mFileNotFoundError\u001b[0m: [Errno 2] No such file or directory: 'test/exercises/clicks.csv'"
     ]
    }
   ],
   "source": [
    "clicks = pd.read_csv(\"test/exercises/clicks.csv\") \n",
    "print(\"clicks dataset shape\",clicks.shape)\n",
    "clicks.head()\n",
    "# clicks.info()\n",
    "#clicks.describe()\n"
   ]
  },
  {
   "cell_type": "code",
   "execution_count": 3,
   "metadata": {},
   "outputs": [
    {
     "name": "stdout",
     "output_type": "stream",
     "text": [
      "buys dataset shape (1048575, 5)\n"
     ]
    },
    {
     "data": {
      "text/html": [
       "<div>\n",
       "<style scoped>\n",
       "    .dataframe tbody tr th:only-of-type {\n",
       "        vertical-align: middle;\n",
       "    }\n",
       "\n",
       "    .dataframe tbody tr th {\n",
       "        vertical-align: top;\n",
       "    }\n",
       "\n",
       "    .dataframe thead th {\n",
       "        text-align: right;\n",
       "    }\n",
       "</style>\n",
       "<table border=\"1\" class=\"dataframe\">\n",
       "  <thead>\n",
       "    <tr style=\"text-align: right;\">\n",
       "      <th></th>\n",
       "      <th>sessionID</th>\n",
       "      <th>ts</th>\n",
       "      <th>itemID</th>\n",
       "      <th>price</th>\n",
       "      <th>cnt</th>\n",
       "    </tr>\n",
       "  </thead>\n",
       "  <tbody>\n",
       "    <tr>\n",
       "      <th>0</th>\n",
       "      <td>420374</td>\n",
       "      <td>2014-04-06 18:44:58.314000+00:00</td>\n",
       "      <td>214537888</td>\n",
       "      <td>12462</td>\n",
       "      <td>1</td>\n",
       "    </tr>\n",
       "    <tr>\n",
       "      <th>1</th>\n",
       "      <td>420374</td>\n",
       "      <td>2014-04-06 18:44:58.325000+00:00</td>\n",
       "      <td>214537850</td>\n",
       "      <td>10471</td>\n",
       "      <td>1</td>\n",
       "    </tr>\n",
       "    <tr>\n",
       "      <th>2</th>\n",
       "      <td>281626</td>\n",
       "      <td>2014-04-06 09:40:13.032000+00:00</td>\n",
       "      <td>214535653</td>\n",
       "      <td>1883</td>\n",
       "      <td>1</td>\n",
       "    </tr>\n",
       "    <tr>\n",
       "      <th>3</th>\n",
       "      <td>420368</td>\n",
       "      <td>2014-04-04 06:13:28.848000+00:00</td>\n",
       "      <td>214530572</td>\n",
       "      <td>6073</td>\n",
       "      <td>1</td>\n",
       "    </tr>\n",
       "    <tr>\n",
       "      <th>4</th>\n",
       "      <td>420368</td>\n",
       "      <td>2014-04-04 06:13:28.858000+00:00</td>\n",
       "      <td>214835025</td>\n",
       "      <td>2617</td>\n",
       "      <td>1</td>\n",
       "    </tr>\n",
       "  </tbody>\n",
       "</table>\n",
       "</div>"
      ],
      "text/plain": [
       "   sessionID                                ts     itemID  price  cnt\n",
       "0     420374  2014-04-06 18:44:58.314000+00:00  214537888  12462    1\n",
       "1     420374  2014-04-06 18:44:58.325000+00:00  214537850  10471    1\n",
       "2     281626  2014-04-06 09:40:13.032000+00:00  214535653   1883    1\n",
       "3     420368  2014-04-04 06:13:28.848000+00:00  214530572   6073    1\n",
       "4     420368  2014-04-04 06:13:28.858000+00:00  214835025   2617    1"
      ]
     },
     "execution_count": 3,
     "metadata": {},
     "output_type": "execute_result"
    }
   ],
   "source": [
    "buys = pd.read_csv(r'C:\\Users\\emily\\Desktop\\Python\\test\\exercises\\session\\session_buys.csv')\n",
    "print(\"buys dataset shape\",buys.shape)\n",
    "buys.head()"
   ]
  },
  {
   "cell_type": "code",
   "execution_count": 4,
   "metadata": {},
   "outputs": [
    {
     "data": {
      "text/html": [
       "<div>\n",
       "<style scoped>\n",
       "    .dataframe tbody tr th:only-of-type {\n",
       "        vertical-align: middle;\n",
       "    }\n",
       "\n",
       "    .dataframe tbody tr th {\n",
       "        vertical-align: top;\n",
       "    }\n",
       "\n",
       "    .dataframe thead th {\n",
       "        text-align: right;\n",
       "    }\n",
       "</style>\n",
       "<table border=\"1\" class=\"dataframe\">\n",
       "  <thead>\n",
       "    <tr style=\"text-align: right;\">\n",
       "      <th></th>\n",
       "      <th>sessionID</th>\n",
       "      <th>ts</th>\n",
       "      <th>itemID</th>\n",
       "      <th>cat</th>\n",
       "      <th>year</th>\n",
       "      <th>month</th>\n",
       "      <th>day</th>\n",
       "      <th>hour</th>\n",
       "      <th>week</th>\n",
       "      <th>weekday</th>\n",
       "    </tr>\n",
       "  </thead>\n",
       "  <tbody>\n",
       "    <tr>\n",
       "      <th>0</th>\n",
       "      <td>1</td>\n",
       "      <td>2014-04-07 10:51:09.277000+00:00</td>\n",
       "      <td>214536502</td>\n",
       "      <td>0</td>\n",
       "      <td>2014</td>\n",
       "      <td>4</td>\n",
       "      <td>7</td>\n",
       "      <td>10</td>\n",
       "      <td>15</td>\n",
       "      <td>0</td>\n",
       "    </tr>\n",
       "    <tr>\n",
       "      <th>1</th>\n",
       "      <td>1</td>\n",
       "      <td>2014-04-07 10:54:09.868000+00:00</td>\n",
       "      <td>214536500</td>\n",
       "      <td>0</td>\n",
       "      <td>2014</td>\n",
       "      <td>4</td>\n",
       "      <td>7</td>\n",
       "      <td>10</td>\n",
       "      <td>15</td>\n",
       "      <td>0</td>\n",
       "    </tr>\n",
       "    <tr>\n",
       "      <th>2</th>\n",
       "      <td>1</td>\n",
       "      <td>2014-04-07 10:54:46.998000+00:00</td>\n",
       "      <td>214536506</td>\n",
       "      <td>0</td>\n",
       "      <td>2014</td>\n",
       "      <td>4</td>\n",
       "      <td>7</td>\n",
       "      <td>10</td>\n",
       "      <td>15</td>\n",
       "      <td>0</td>\n",
       "    </tr>\n",
       "    <tr>\n",
       "      <th>3</th>\n",
       "      <td>1</td>\n",
       "      <td>2014-04-07 10:57:00.306000+00:00</td>\n",
       "      <td>214577561</td>\n",
       "      <td>0</td>\n",
       "      <td>2014</td>\n",
       "      <td>4</td>\n",
       "      <td>7</td>\n",
       "      <td>10</td>\n",
       "      <td>15</td>\n",
       "      <td>0</td>\n",
       "    </tr>\n",
       "    <tr>\n",
       "      <th>4</th>\n",
       "      <td>2</td>\n",
       "      <td>2014-04-07 13:56:37.614000+00:00</td>\n",
       "      <td>214662742</td>\n",
       "      <td>0</td>\n",
       "      <td>2014</td>\n",
       "      <td>4</td>\n",
       "      <td>7</td>\n",
       "      <td>13</td>\n",
       "      <td>15</td>\n",
       "      <td>0</td>\n",
       "    </tr>\n",
       "    <tr>\n",
       "      <th>5</th>\n",
       "      <td>2</td>\n",
       "      <td>2014-04-07 13:57:19.373000+00:00</td>\n",
       "      <td>214662742</td>\n",
       "      <td>0</td>\n",
       "      <td>2014</td>\n",
       "      <td>4</td>\n",
       "      <td>7</td>\n",
       "      <td>13</td>\n",
       "      <td>15</td>\n",
       "      <td>0</td>\n",
       "    </tr>\n",
       "    <tr>\n",
       "      <th>6</th>\n",
       "      <td>2</td>\n",
       "      <td>2014-04-07 13:58:37.446000+00:00</td>\n",
       "      <td>214825110</td>\n",
       "      <td>0</td>\n",
       "      <td>2014</td>\n",
       "      <td>4</td>\n",
       "      <td>7</td>\n",
       "      <td>13</td>\n",
       "      <td>15</td>\n",
       "      <td>0</td>\n",
       "    </tr>\n",
       "    <tr>\n",
       "      <th>7</th>\n",
       "      <td>2</td>\n",
       "      <td>2014-04-07 13:59:50.710000+00:00</td>\n",
       "      <td>214757390</td>\n",
       "      <td>0</td>\n",
       "      <td>2014</td>\n",
       "      <td>4</td>\n",
       "      <td>7</td>\n",
       "      <td>13</td>\n",
       "      <td>15</td>\n",
       "      <td>0</td>\n",
       "    </tr>\n",
       "    <tr>\n",
       "      <th>8</th>\n",
       "      <td>2</td>\n",
       "      <td>2014-04-07 14:00:38.247000+00:00</td>\n",
       "      <td>214757407</td>\n",
       "      <td>0</td>\n",
       "      <td>2014</td>\n",
       "      <td>4</td>\n",
       "      <td>7</td>\n",
       "      <td>14</td>\n",
       "      <td>15</td>\n",
       "      <td>0</td>\n",
       "    </tr>\n",
       "    <tr>\n",
       "      <th>9</th>\n",
       "      <td>2</td>\n",
       "      <td>2014-04-07 14:02:36.889000+00:00</td>\n",
       "      <td>214551617</td>\n",
       "      <td>0</td>\n",
       "      <td>2014</td>\n",
       "      <td>4</td>\n",
       "      <td>7</td>\n",
       "      <td>14</td>\n",
       "      <td>15</td>\n",
       "      <td>0</td>\n",
       "    </tr>\n",
       "  </tbody>\n",
       "</table>\n",
       "</div>"
      ],
      "text/plain": [
       "   sessionID                               ts     itemID  cat  year  month  \\\n",
       "0          1 2014-04-07 10:51:09.277000+00:00  214536502    0  2014      4   \n",
       "1          1 2014-04-07 10:54:09.868000+00:00  214536500    0  2014      4   \n",
       "2          1 2014-04-07 10:54:46.998000+00:00  214536506    0  2014      4   \n",
       "3          1 2014-04-07 10:57:00.306000+00:00  214577561    0  2014      4   \n",
       "4          2 2014-04-07 13:56:37.614000+00:00  214662742    0  2014      4   \n",
       "5          2 2014-04-07 13:57:19.373000+00:00  214662742    0  2014      4   \n",
       "6          2 2014-04-07 13:58:37.446000+00:00  214825110    0  2014      4   \n",
       "7          2 2014-04-07 13:59:50.710000+00:00  214757390    0  2014      4   \n",
       "8          2 2014-04-07 14:00:38.247000+00:00  214757407    0  2014      4   \n",
       "9          2 2014-04-07 14:02:36.889000+00:00  214551617    0  2014      4   \n",
       "\n",
       "   day  hour  week  weekday  \n",
       "0    7    10    15        0  \n",
       "1    7    10    15        0  \n",
       "2    7    10    15        0  \n",
       "3    7    10    15        0  \n",
       "4    7    13    15        0  \n",
       "5    7    13    15        0  \n",
       "6    7    13    15        0  \n",
       "7    7    13    15        0  \n",
       "8    7    14    15        0  \n",
       "9    7    14    15        0  "
      ]
     },
     "execution_count": 4,
     "metadata": {},
     "output_type": "execute_result"
    }
   ],
   "source": [
    "# your codes here\n",
    "#covert ts column to datetime and create new columns for year,month,day,hour,week,weekday\n",
    "clicks['ts'] = pd.to_datetime(clicks['ts'])\n",
    "clicks['year'] = clicks['ts'].dt.year  # create a column for data'year' of 'ts' column\n",
    "clicks['month'] = clicks['ts'].dt.month  # month column\n",
    "clicks['day'] = clicks['ts'].dt.day  # day column\n",
    "clicks['hour'] = clicks['ts'].dt.hour  # hour column\n",
    "clicks['week'] = clicks['ts'].dt.isocalendar().week  # ISO week\n",
    "clicks['weekday'] = clicks['ts'].dt.weekday  # Monday is 0 and Sunday is 6\n",
    "clicks.head(10)\n"
   ]
  },
  {
   "cell_type": "markdown",
   "metadata": {},
   "source": [
    "---"
   ]
  },
  {
   "cell_type": "code",
   "execution_count": 5,
   "metadata": {},
   "outputs": [
    {
     "data": {
      "text/html": [
       "<div>\n",
       "<style scoped>\n",
       "    .dataframe tbody tr th:only-of-type {\n",
       "        vertical-align: middle;\n",
       "    }\n",
       "\n",
       "    .dataframe tbody tr th {\n",
       "        vertical-align: top;\n",
       "    }\n",
       "\n",
       "    .dataframe thead th {\n",
       "        text-align: right;\n",
       "    }\n",
       "</style>\n",
       "<table border=\"1\" class=\"dataframe\">\n",
       "  <thead>\n",
       "    <tr style=\"text-align: right;\">\n",
       "      <th></th>\n",
       "      <th>sessionID</th>\n",
       "      <th>ts</th>\n",
       "      <th>itemID</th>\n",
       "      <th>price</th>\n",
       "      <th>cnt</th>\n",
       "      <th>year</th>\n",
       "      <th>month</th>\n",
       "      <th>day</th>\n",
       "      <th>hour</th>\n",
       "      <th>week</th>\n",
       "      <th>weekday</th>\n",
       "    </tr>\n",
       "  </thead>\n",
       "  <tbody>\n",
       "    <tr>\n",
       "      <th>0</th>\n",
       "      <td>420374</td>\n",
       "      <td>2014-04-06 18:44:58.314000+00:00</td>\n",
       "      <td>214537888</td>\n",
       "      <td>12462</td>\n",
       "      <td>1</td>\n",
       "      <td>2014</td>\n",
       "      <td>4</td>\n",
       "      <td>6</td>\n",
       "      <td>18</td>\n",
       "      <td>14</td>\n",
       "      <td>6</td>\n",
       "    </tr>\n",
       "    <tr>\n",
       "      <th>1</th>\n",
       "      <td>420374</td>\n",
       "      <td>2014-04-06 18:44:58.325000+00:00</td>\n",
       "      <td>214537850</td>\n",
       "      <td>10471</td>\n",
       "      <td>1</td>\n",
       "      <td>2014</td>\n",
       "      <td>4</td>\n",
       "      <td>6</td>\n",
       "      <td>18</td>\n",
       "      <td>14</td>\n",
       "      <td>6</td>\n",
       "    </tr>\n",
       "    <tr>\n",
       "      <th>2</th>\n",
       "      <td>281626</td>\n",
       "      <td>2014-04-06 09:40:13.032000+00:00</td>\n",
       "      <td>214535653</td>\n",
       "      <td>1883</td>\n",
       "      <td>1</td>\n",
       "      <td>2014</td>\n",
       "      <td>4</td>\n",
       "      <td>6</td>\n",
       "      <td>9</td>\n",
       "      <td>14</td>\n",
       "      <td>6</td>\n",
       "    </tr>\n",
       "    <tr>\n",
       "      <th>3</th>\n",
       "      <td>420368</td>\n",
       "      <td>2014-04-04 06:13:28.848000+00:00</td>\n",
       "      <td>214530572</td>\n",
       "      <td>6073</td>\n",
       "      <td>1</td>\n",
       "      <td>2014</td>\n",
       "      <td>4</td>\n",
       "      <td>4</td>\n",
       "      <td>6</td>\n",
       "      <td>14</td>\n",
       "      <td>4</td>\n",
       "    </tr>\n",
       "    <tr>\n",
       "      <th>4</th>\n",
       "      <td>420368</td>\n",
       "      <td>2014-04-04 06:13:28.858000+00:00</td>\n",
       "      <td>214835025</td>\n",
       "      <td>2617</td>\n",
       "      <td>1</td>\n",
       "      <td>2014</td>\n",
       "      <td>4</td>\n",
       "      <td>4</td>\n",
       "      <td>6</td>\n",
       "      <td>14</td>\n",
       "      <td>4</td>\n",
       "    </tr>\n",
       "    <tr>\n",
       "      <th>5</th>\n",
       "      <td>140806</td>\n",
       "      <td>2014-04-07 09:22:28.132000+00:00</td>\n",
       "      <td>214668193</td>\n",
       "      <td>523</td>\n",
       "      <td>1</td>\n",
       "      <td>2014</td>\n",
       "      <td>4</td>\n",
       "      <td>7</td>\n",
       "      <td>9</td>\n",
       "      <td>15</td>\n",
       "      <td>0</td>\n",
       "    </tr>\n",
       "  </tbody>\n",
       "</table>\n",
       "</div>"
      ],
      "text/plain": [
       "   sessionID                               ts     itemID  price  cnt  year  \\\n",
       "0     420374 2014-04-06 18:44:58.314000+00:00  214537888  12462    1  2014   \n",
       "1     420374 2014-04-06 18:44:58.325000+00:00  214537850  10471    1  2014   \n",
       "2     281626 2014-04-06 09:40:13.032000+00:00  214535653   1883    1  2014   \n",
       "3     420368 2014-04-04 06:13:28.848000+00:00  214530572   6073    1  2014   \n",
       "4     420368 2014-04-04 06:13:28.858000+00:00  214835025   2617    1  2014   \n",
       "5     140806 2014-04-07 09:22:28.132000+00:00  214668193    523    1  2014   \n",
       "\n",
       "   month  day  hour  week  weekday  \n",
       "0      4    6    18    14        6  \n",
       "1      4    6    18    14        6  \n",
       "2      4    6     9    14        6  \n",
       "3      4    4     6    14        4  \n",
       "4      4    4     6    14        4  \n",
       "5      4    7     9    15        0  "
      ]
     },
     "execution_count": 5,
     "metadata": {},
     "output_type": "execute_result"
    }
   ],
   "source": [
    "#covert ts column to datetime and create new columns for year,month,day,hour,week,weekday\n",
    "buys['ts'] = pd.to_datetime(buys['ts'])\n",
    "buys['year'] =buys['ts'].dt.year\n",
    "buys['month'] = buys['ts'].dt.month\n",
    "buys['day'] = buys['ts'].dt.day\n",
    "buys['hour'] = buys['ts'].dt.hour\n",
    "buys['week'] = buys['ts'].dt.isocalendar().week  # ISO week\n",
    "buys['weekday'] = buys['ts'].dt.weekday  # Monday is 0 and Sunday is 6\n",
    "buys.head(6)"
   ]
  },
  {
   "cell_type": "code",
   "execution_count": 58,
   "metadata": {},
   "outputs": [
    {
     "data": {
      "text/html": [
       "<div>\n",
       "<style scoped>\n",
       "    .dataframe tbody tr th:only-of-type {\n",
       "        vertical-align: middle;\n",
       "    }\n",
       "\n",
       "    .dataframe tbody tr th {\n",
       "        vertical-align: top;\n",
       "    }\n",
       "\n",
       "    .dataframe thead th {\n",
       "        text-align: right;\n",
       "    }\n",
       "</style>\n",
       "<table border=\"1\" class=\"dataframe\">\n",
       "  <thead>\n",
       "    <tr style=\"text-align: right;\">\n",
       "      <th></th>\n",
       "      <th>cnt</th>\n",
       "    </tr>\n",
       "    <tr>\n",
       "      <th>hour</th>\n",
       "      <th></th>\n",
       "    </tr>\n",
       "  </thead>\n",
       "  <tbody>\n",
       "    <tr>\n",
       "      <th>0</th>\n",
       "      <td>1313</td>\n",
       "    </tr>\n",
       "    <tr>\n",
       "      <th>1</th>\n",
       "      <td>967</td>\n",
       "    </tr>\n",
       "    <tr>\n",
       "      <th>2</th>\n",
       "      <td>808</td>\n",
       "    </tr>\n",
       "    <tr>\n",
       "      <th>3</th>\n",
       "      <td>1297</td>\n",
       "    </tr>\n",
       "    <tr>\n",
       "      <th>4</th>\n",
       "      <td>3684</td>\n",
       "    </tr>\n",
       "    <tr>\n",
       "      <th>5</th>\n",
       "      <td>10332</td>\n",
       "    </tr>\n",
       "    <tr>\n",
       "      <th>6</th>\n",
       "      <td>19780</td>\n",
       "    </tr>\n",
       "    <tr>\n",
       "      <th>7</th>\n",
       "      <td>31754</td>\n",
       "    </tr>\n",
       "    <tr>\n",
       "      <th>8</th>\n",
       "      <td>39003</td>\n",
       "    </tr>\n",
       "    <tr>\n",
       "      <th>9</th>\n",
       "      <td>41161</td>\n",
       "    </tr>\n",
       "    <tr>\n",
       "      <th>10</th>\n",
       "      <td>39559</td>\n",
       "    </tr>\n",
       "    <tr>\n",
       "      <th>11</th>\n",
       "      <td>39850</td>\n",
       "    </tr>\n",
       "    <tr>\n",
       "      <th>12</th>\n",
       "      <td>37610</td>\n",
       "    </tr>\n",
       "    <tr>\n",
       "      <th>13</th>\n",
       "      <td>34003</td>\n",
       "    </tr>\n",
       "    <tr>\n",
       "      <th>14</th>\n",
       "      <td>34647</td>\n",
       "    </tr>\n",
       "    <tr>\n",
       "      <th>15</th>\n",
       "      <td>36371</td>\n",
       "    </tr>\n",
       "    <tr>\n",
       "      <th>16</th>\n",
       "      <td>36377</td>\n",
       "    </tr>\n",
       "    <tr>\n",
       "      <th>17</th>\n",
       "      <td>41981</td>\n",
       "    </tr>\n",
       "    <tr>\n",
       "      <th>18</th>\n",
       "      <td>47330</td>\n",
       "    </tr>\n",
       "    <tr>\n",
       "      <th>19</th>\n",
       "      <td>46847</td>\n",
       "    </tr>\n",
       "    <tr>\n",
       "      <th>20</th>\n",
       "      <td>32941</td>\n",
       "    </tr>\n",
       "    <tr>\n",
       "      <th>21</th>\n",
       "      <td>17397</td>\n",
       "    </tr>\n",
       "    <tr>\n",
       "      <th>22</th>\n",
       "      <td>7728</td>\n",
       "    </tr>\n",
       "    <tr>\n",
       "      <th>23</th>\n",
       "      <td>3087</td>\n",
       "    </tr>\n",
       "  </tbody>\n",
       "</table>\n",
       "</div>"
      ],
      "text/plain": [
       "        cnt\n",
       "hour       \n",
       "0      1313\n",
       "1       967\n",
       "2       808\n",
       "3      1297\n",
       "4      3684\n",
       "5     10332\n",
       "6     19780\n",
       "7     31754\n",
       "8     39003\n",
       "9     41161\n",
       "10    39559\n",
       "11    39850\n",
       "12    37610\n",
       "13    34003\n",
       "14    34647\n",
       "15    36371\n",
       "16    36377\n",
       "17    41981\n",
       "18    47330\n",
       "19    46847\n",
       "20    32941\n",
       "21    17397\n",
       "22     7728\n",
       "23     3087"
      ]
     },
     "execution_count": 58,
     "metadata": {},
     "output_type": "execute_result"
    }
   ],
   "source": [
    "#Q1:What is the average number of purchases per hour?\n",
    "# Group by 'hour' and count the number of purchases(purchased item quantity) in each hour in session_buys table\n",
    "purchases_per_hour = buys.groupby(['hour'])['cnt'].sum()\n",
    "#create dataframe\n",
    "purchases_per_hour_df=pd.DataFrame(purchases_per_hour)\n",
    "purchases_per_hour_df"
   ]
  },
  {
   "cell_type": "code",
   "execution_count": 7,
   "metadata": {},
   "outputs": [
    {
     "data": {
      "image/png": "[encoded data removed]",
      "text/plain": [
       "<Figure size 640x480 with 1 Axes>"
      ]
     },
     "metadata": {},
     "output_type": "display_data"
    }
   ],
   "source": [
    "# Q2: What time of day do people tend to buy more?\n",
    "# Answer:  people tend to buy more at 18:00 and 19:00 of every day \n",
    "\n",
    "# Group by 'hour' and count the number of clicks in each hour in session_clicks table\n",
    "clicks_per_hour = clicks.groupby(['hour'])['ts'].count()\n",
    "# Bar plot of clicks per hour\n",
    "clicks_per_hour.plot(kind='bar', xlabel='Hour', ylabel='Clicks', title='Clicks Per Hour')\n",
    "plt.show()"
   ]
  },
  {
   "cell_type": "code",
   "execution_count": 60,
   "metadata": {},
   "outputs": [
    {
     "data": {
      "text/html": [
       "<div>\n",
       "<style scoped>\n",
       "    .dataframe tbody tr th:only-of-type {\n",
       "        vertical-align: middle;\n",
       "    }\n",
       "\n",
       "    .dataframe tbody tr th {\n",
       "        vertical-align: top;\n",
       "    }\n",
       "\n",
       "    .dataframe thead th {\n",
       "        text-align: right;\n",
       "    }\n",
       "</style>\n",
       "<table border=\"1\" class=\"dataframe\">\n",
       "  <thead>\n",
       "    <tr style=\"text-align: right;\">\n",
       "      <th></th>\n",
       "      <th>cnt</th>\n",
       "    </tr>\n",
       "    <tr>\n",
       "      <th>weekday</th>\n",
       "      <th></th>\n",
       "    </tr>\n",
       "  </thead>\n",
       "  <tbody>\n",
       "    <tr>\n",
       "      <th>0</th>\n",
       "      <td>109510</td>\n",
       "    </tr>\n",
       "    <tr>\n",
       "      <th>1</th>\n",
       "      <td>29370</td>\n",
       "    </tr>\n",
       "    <tr>\n",
       "      <th>2</th>\n",
       "      <td>74658</td>\n",
       "    </tr>\n",
       "    <tr>\n",
       "      <th>3</th>\n",
       "      <td>76489</td>\n",
       "    </tr>\n",
       "    <tr>\n",
       "      <th>4</th>\n",
       "      <td>71526</td>\n",
       "    </tr>\n",
       "    <tr>\n",
       "      <th>5</th>\n",
       "      <td>87186</td>\n",
       "    </tr>\n",
       "    <tr>\n",
       "      <th>6</th>\n",
       "      <td>157088</td>\n",
       "    </tr>\n",
       "  </tbody>\n",
       "</table>\n",
       "</div>"
      ],
      "text/plain": [
       "            cnt\n",
       "weekday        \n",
       "0        109510\n",
       "1         29370\n",
       "2         74658\n",
       "3         76489\n",
       "4         71526\n",
       "5         87186\n",
       "6        157088"
      ]
     },
     "execution_count": 60,
     "metadata": {},
     "output_type": "execute_result"
    }
   ],
   "source": [
    "# Q3:What is the average number of purchases per day of the week in the datasets?\n",
    "# Answer: as below \n",
    "# Group by 'hour' and count the number of purchases(purchase item quantity) in each weekday in session_buys table\n",
    "purchases_weekday = buys.groupby(['weekday'])['cnt'].sum()\n",
    "#create dataframe for the table\n",
    "purchases_weekday_df = pd.DataFrame(purchases_weekday)\n",
    "purchases_weekday_df"
   ]
  },
  {
   "cell_type": "code",
   "execution_count": 9,
   "metadata": {},
   "outputs": [
    {
     "data": {
      "image/png": "[encoded data removed]",
      "text/plain": [
       "<Figure size 640x480 with 1 Axes>"
      ]
     },
     "metadata": {},
     "output_type": "display_data"
    }
   ],
   "source": [
    "# Q4:What day of the week do people tend to buy more items?\n",
    "# Answer: Sunday\n",
    "\n",
    "# Group by 'hour' and count the number of purchases in each weekday in session_buys table\n",
    "purchases_weekday = buys.groupby(['weekday'])['cnt'].sum()\n",
    "# Bar plot of purchases per weekday\n",
    "purchases_weekday.plot(kind='bar', xlabel='Weekday', ylabel='Purchases', title='Purchases Per Day of Week')\n",
    "plt.show()\n"
   ]
  },
  {
   "cell_type": "code",
   "execution_count": 63,
   "metadata": {},
   "outputs": [
    {
     "data": {
      "text/html": [
       "<div>\n",
       "<style scoped>\n",
       "    .dataframe tbody tr th:only-of-type {\n",
       "        vertical-align: middle;\n",
       "    }\n",
       "\n",
       "    .dataframe tbody tr th {\n",
       "        vertical-align: top;\n",
       "    }\n",
       "\n",
       "    .dataframe thead th {\n",
       "        text-align: right;\n",
       "    }\n",
       "</style>\n",
       "<table border=\"1\" class=\"dataframe\">\n",
       "  <thead>\n",
       "    <tr style=\"text-align: right;\">\n",
       "      <th></th>\n",
       "      <th>total_session</th>\n",
       "    </tr>\n",
       "    <tr>\n",
       "      <th>cat</th>\n",
       "      <th></th>\n",
       "    </tr>\n",
       "  </thead>\n",
       "  <tbody>\n",
       "    <tr>\n",
       "      <th>0</th>\n",
       "      <td>16337653</td>\n",
       "    </tr>\n",
       "    <tr>\n",
       "      <th>1</th>\n",
       "      <td>1671754</td>\n",
       "    </tr>\n",
       "    <tr>\n",
       "      <th>2</th>\n",
       "      <td>1292249</td>\n",
       "    </tr>\n",
       "    <tr>\n",
       "      <th>3</th>\n",
       "      <td>789713</td>\n",
       "    </tr>\n",
       "    <tr>\n",
       "      <th>4</th>\n",
       "      <td>480569</td>\n",
       "    </tr>\n",
       "    <tr>\n",
       "      <th>5</th>\n",
       "      <td>471923</td>\n",
       "    </tr>\n",
       "    <tr>\n",
       "      <th>6</th>\n",
       "      <td>414696</td>\n",
       "    </tr>\n",
       "    <tr>\n",
       "      <th>7</th>\n",
       "      <td>389910</td>\n",
       "    </tr>\n",
       "    <tr>\n",
       "      <th>8</th>\n",
       "      <td>44840</td>\n",
       "    </tr>\n",
       "    <tr>\n",
       "      <th>9</th>\n",
       "      <td>105282</td>\n",
       "    </tr>\n",
       "    <tr>\n",
       "      <th>10</th>\n",
       "      <td>69820</td>\n",
       "    </tr>\n",
       "    <tr>\n",
       "      <th>11</th>\n",
       "      <td>70264</td>\n",
       "    </tr>\n",
       "    <tr>\n",
       "      <th>12</th>\n",
       "      <td>19357</td>\n",
       "    </tr>\n",
       "    <tr>\n",
       "      <th>13</th>\n",
       "      <td>10769610</td>\n",
       "    </tr>\n",
       "    <tr>\n",
       "      <th>14</th>\n",
       "      <td>76304</td>\n",
       "    </tr>\n",
       "  </tbody>\n",
       "</table>\n",
       "</div>"
      ],
      "text/plain": [
       "     total_session\n",
       "cat               \n",
       "0         16337653\n",
       "1          1671754\n",
       "2          1292249\n",
       "3           789713\n",
       "4           480569\n",
       "5           471923\n",
       "6           414696\n",
       "7           389910\n",
       "8            44840\n",
       "9           105282\n",
       "10           69820\n",
       "11           70264\n",
       "12           19357\n",
       "13        10769610\n",
       "14           76304"
      ]
     },
     "execution_count": 63,
     "metadata": {},
     "output_type": "execute_result"
    }
   ],
   "source": [
    "# Q5:How many sessions are there per category?\n",
    "# Answer: as below\n",
    "\n",
    "# Group by 'category' and count the number of sessionID in session_clicks table\n",
    "sessions_per_category= clicks.groupby(['cat'])['sessionID'].count()\n",
    "# Create a dataframe \n",
    "sessions_per_category_df=pd.DataFrame(sessions_per_category)\n",
    "# Change the column name‘sessionID’\n",
    "sessions_per_category_df.rename(columns={'sessionID': 'total_session'}, inplace=True)\n",
    "sessions_per_category_df"
   ]
  },
  {
   "cell_type": "code",
   "execution_count": 64,
   "metadata": {},
   "outputs": [
    {
     "name": "stdout",
     "output_type": "stream",
     "text": [
      "The longest time of session is 0 days 00:59:59.995000\n"
     ]
    }
   ],
   "source": [
    "# Q6:How long is the longest session?\n",
    "\n",
    "# Merge two tables with sessionID\n",
    "merged_session = pd.merge(clicks,buys, on='sessionID', how='outer')\n",
    "#Group by the 'sessionID' column and calculate the time differences within each group, get highest number for difference\n",
    "session_buys_longest = merged_session.groupby('sessionID')['ts_x'].diff().max()\n",
    "print(f'The longest time of session is',session_buys_longest )\n"
   ]
  },
  {
   "cell_type": "code",
   "execution_count": 65,
   "metadata": {},
   "outputs": [
    {
     "name": "stdout",
     "output_type": "stream",
     "text": [
      "The item sold in the longest session is 214834995\n"
     ]
    }
   ],
   "source": [
    "# Q7:What items were sold in the longest session?\n",
    "\n",
    "#Calculate time difference and find the biggest difference\n",
    "session_length = merged_session.groupby('sessionID')['ts_x'].diff().groupby(merged_session['sessionID']).agg('max')\n",
    "#Order in descend\n",
    "sorted_result = session_length.sort_values(ascending=False)\n",
    "#Find the longest session\n",
    "session_longest = sorted_result.head(1).index[0]\n",
    "#Find the itemID of the longest session\n",
    "item_longest_session=buys.loc[session_longest, 'itemID']\n",
    "item_longest_session\n",
    "\n",
    "print(f'The item sold in the longest session is',item_longest_session)"
   ]
  },
  {
   "cell_type": "code",
   "execution_count": 66,
   "metadata": {},
   "outputs": [
    {
     "name": "stdout",
     "output_type": "stream",
     "text": [
      "The session happen time is  2014-08-11 20:40:36.473000+00:00\n"
     ]
    }
   ],
   "source": [
    "# Q7: When did this happen?(items were sold in the longest session)\n",
    "\n",
    "# Find the row of the longest session,get the ts value\n",
    "purchase_time_longest_session = buys.loc[session_longest, 'ts']\n",
    "\n",
    "print(f'The session happen time is ',purchase_time_longest_session)"
   ]
  },
  {
   "cell_type": "code",
   "execution_count": 67,
   "metadata": {},
   "outputs": [
    {
     "name": "stdout",
     "output_type": "stream",
     "text": [
      "Correlation between session length and purchase count: -0.007486447650497082\n"
     ]
    }
   ],
   "source": [
    "# Q8: Do longer sessions result in more purchases?\n",
    "# Answer:NO.Correlation between session length and purchase count: -0.007486447650497082,session length and purchase have negative correlation.\n",
    "\n",
    "# Group by 'sessionID' in merged_session and count the time length of sesssion\n",
    "merged_session['session_length'] = merged_session.groupby('sessionID')['ts_x'].diff()\n",
    "\n",
    "#Transfer all date time to seconds value and add a 'session_length' column in merged session\n",
    "merged_session['session_length']= merged_session['session_length'].dt.total_seconds()\n",
    "\n",
    "# change time to seconds length and caculate the coorelation\n",
    "correlation =merged_session['session_length'].corr(merged_session['cnt'])\n",
    "print(f'Correlation between session length and purchase count: {correlation}')"
   ]
  },
  {
   "cell_type": "code",
   "execution_count": 68,
   "metadata": {},
   "outputs": [
    {
     "data": {
      "text/plain": [
       "<Axes: >"
      ]
     },
     "execution_count": 68,
     "metadata": {},
     "output_type": "execute_result"
    },
    {
     "data": {
      "image/png": "[encoded data removed]",
      "text/plain": [
       "<Figure size 640x480 with 2 Axes>"
      ]
     },
     "metadata": {},
     "output_type": "display_data"
    }
   ],
   "source": [
    "# Q9:Is there a relationship between session length and number of purchases?\n",
    "# Answer: No,the coorelation between session length and purchase number is weak(0.0075) and color is light blue, the lighter color , the weaker coorelation.\n",
    "\n",
    "#coorelation with session length and purchase number,absolute value of the coorelation\n",
    "out=merged_session[['session_length','cnt']].corr().abs()\n",
    "\n",
    "#heatmap for the coorelationship,setting up the color is blue,the darker color, the stronger coorelation\n",
    "sns.heatmap(out, cmap=\"Blues\",annot=True)\n"
   ]
  },
  {
   "cell_type": "code",
   "execution_count": 69,
   "metadata": {},
   "outputs": [
    {
     "data": {
      "text/plain": [
       "itemID    1178837797\n",
       "cnt             9939\n",
       "dtype: int64"
      ]
     },
     "execution_count": 69,
     "metadata": {},
     "output_type": "execute_result"
    }
   ],
   "source": [
    "# Q10:What are the most popular (most sold) items?\n",
    "#Answer:itemID    1178837797(cnt:9939)\n",
    "\n",
    "# create DataFrame which has itemID and cnt as column,sum up the cnt and get the highest number for cnt\n",
    "max_buys_df = buys.groupby('itemID')['cnt'].sum().reset_index().max()\n",
    "max_buys_df"
   ]
  },
  {
   "cell_type": "code",
   "execution_count": 70,
   "metadata": {},
   "outputs": [
    {
     "data": {
      "text/plain": [
       "\"\\n(1)Sending promo emails:\\nSet up automated email sequences for abandoned cart reminders or promotion campaingan at 18:00-19:00 on Monday and Sunday(purchase peaktime).\\n\\n(2)Web site advertising:\\nPut the hot sell item(cat 13,1,2) in the best position of website,maybe banner or landing page.\\n\\n(3)Personalised recommendation:\\nAccording to one user's session length and click history,add cart history(they should have this data) to provide personalised product recommandation.\\n\\n\""
      ]
     },
     "execution_count": 70,
     "metadata": {},
     "output_type": "execute_result"
    }
   ],
   "source": [
    "# Q11:What general marketing strategies (in terms of sending promotional emails, site advertising or personalised recommendations) can you think of for this online retailer?\n",
    "'''\n",
    "(1)Sending promo emails:\n",
    "Set up automated email sequences for abandoned cart reminders or promotion campaingan at 18:00-19:00 on Monday and Sunday(purchase peaktime).\n",
    "\n",
    "(2)Web site advertising:\n",
    "Put the hot sell item(cat 13,1,2) in the best position of website,maybe banner or landing page.\n",
    "\n",
    "(3)Personalised recommendation:\n",
    "According to one user's session length and click history,add cart history(they should have this data) to provide personalised product recommandation.\n",
    "\n",
    "'''"
   ]
  },
  {
   "cell_type": "code",
   "execution_count": 2,
   "metadata": {},
   "outputs": [
    {
     "ename": "NameError",
     "evalue": "name 'buys' is not defined",
     "output_type": "error",
     "traceback": [
      "\u001b[1;31m---------------------------------------------------------------------------\u001b[0m",
      "\u001b[1;31mNameError\u001b[0m                                 Traceback (most recent call last)",
      "Cell \u001b[1;32mIn[2], line 2\u001b[0m\n\u001b[0;32m      1\u001b[0m \u001b[38;5;66;03m# 1.Monthly purchase quantity: There are missing data of three months(5,6,7).April has highest purchase from this raw data. \u001b[39;00m\n\u001b[1;32m----> 2\u001b[0m purchases_month \u001b[38;5;241m=\u001b[39m buys\u001b[38;5;241m.\u001b[39mgroupby([\u001b[38;5;124m'\u001b[39m\u001b[38;5;124mmonth\u001b[39m\u001b[38;5;124m'\u001b[39m])[\u001b[38;5;124m'\u001b[39m\u001b[38;5;124mcnt\u001b[39m\u001b[38;5;124m'\u001b[39m]\u001b[38;5;241m.\u001b[39msum()\n\u001b[0;32m      3\u001b[0m purchases_month\n",
      "\u001b[1;31mNameError\u001b[0m: name 'buys' is not defined"
     ]
    }
   ],
   "source": [
    "# 1.Monthly purchase quantity: There are missing data of three months(5,6,7).April has highest purchase from this raw data. \n",
    "purchases_month = buys.groupby(['month'])['cnt'].sum()\n",
    "purchases_month"
   ]
  },
  {
   "cell_type": "code",
   "execution_count": 19,
   "metadata": {},
   "outputs": [
    {
     "data": {
      "image/png": "[encoded data removed]",
      "text/plain": [
       "<Figure size 640x480 with 1 Axes>"
      ]
     },
     "metadata": {},
     "output_type": "display_data"
    },
    {
     "data": {
      "text/plain": [
       "month\n",
       "4    793370982\n",
       "5            0\n",
       "6            0\n",
       "7            0\n",
       "8    490520704\n",
       "9    261606892\n",
       "Name: total sale, dtype: int64"
      ]
     },
     "execution_count": 19,
     "metadata": {},
     "output_type": "execute_result"
    }
   ],
   "source": [
    "#2.Sales revenue per month: April has highest sales revenue, which is almost twice of August and triple of September.Why April has higher sales when purchase quantity is almost same with August? Maybe different items?\n",
    "buys['total sale']=buys['cnt']*buys['price']\n",
    "sale_revenue_per_month=buys.groupby(['month'])['total sale'].sum()\n",
    "sale_revenue_per_month.plot(kind='bar', xlabel='Month', ylabel='Sales revenue', title='Sales revenue per month')\n",
    "plt.show()\n",
    "sale_revenue_per_month"
   ]
  },
  {
   "cell_type": "code",
   "execution_count": 20,
   "metadata": {},
   "outputs": [
    {
     "data": {
      "text/html": [
       "<div>\n",
       "<style scoped>\n",
       "    .dataframe tbody tr th:only-of-type {\n",
       "        vertical-align: middle;\n",
       "    }\n",
       "\n",
       "    .dataframe tbody tr th {\n",
       "        vertical-align: top;\n",
       "    }\n",
       "\n",
       "    .dataframe thead th {\n",
       "        text-align: right;\n",
       "    }\n",
       "</style>\n",
       "<table border=\"1\" class=\"dataframe\">\n",
       "  <thead>\n",
       "    <tr style=\"text-align: right;\">\n",
       "      <th></th>\n",
       "      <th>itemID</th>\n",
       "      <th>cnt</th>\n",
       "    </tr>\n",
       "  </thead>\n",
       "  <tbody>\n",
       "    <tr>\n",
       "      <th>7833</th>\n",
       "      <td>214821277</td>\n",
       "      <td>8193</td>\n",
       "    </tr>\n",
       "  </tbody>\n",
       "</table>\n",
       "</div>"
      ],
      "text/plain": [
       "         itemID   cnt\n",
       "7833  214821277  8193"
      ]
     },
     "execution_count": 20,
     "metadata": {},
     "output_type": "execute_result"
    }
   ],
   "source": [
    "# 3.April and August purchase item analysis: this company sells almost different items in April and August, there are only 3 same item in top 100 sells.Why don't they sell the hot sell items? Is it the seasonal item?\n",
    "#In April,the hot sell itemID is 214821277, but in August,the hot sell itemID is 214853420. \n",
    "\n",
    "#new table for april and august, which only show itemID and count,descend according to the count\n",
    "april_data = buys[buys['month'] == 4][['itemID', 'cnt']]\n",
    "august_data = buys[buys['month'] == 8][['itemID', 'cnt']]\n",
    "april_data_total_item = april_data.groupby(['itemID'])['cnt'].sum().reset_index()\n",
    "april_data_total_item = april_data_total_item.sort_values(by='cnt', ascending=False)\n",
    "august_data_total_item =august_data.groupby(['itemID'])['cnt'].sum().reset_index()\n",
    "august_data_total_item =august_data_total_item.sort_values(by='cnt', ascending=False)\n",
    "# choose top 1 selled items of april\n",
    "april_data_total_item_top1 = april_data_total_item.head(1)\n",
    "april_data_total_item_top1"
   ]
  },
  {
   "cell_type": "code",
   "execution_count": 21,
   "metadata": {},
   "outputs": [
    {
     "data": {
      "text/html": [
       "<div>\n",
       "<style scoped>\n",
       "    .dataframe tbody tr th:only-of-type {\n",
       "        vertical-align: middle;\n",
       "    }\n",
       "\n",
       "    .dataframe tbody tr th {\n",
       "        vertical-align: top;\n",
       "    }\n",
       "\n",
       "    .dataframe thead th {\n",
       "        text-align: right;\n",
       "    }\n",
       "</style>\n",
       "<table border=\"1\" class=\"dataframe\">\n",
       "  <thead>\n",
       "    <tr style=\"text-align: right;\">\n",
       "      <th></th>\n",
       "      <th>itemID</th>\n",
       "      <th>cnt</th>\n",
       "    </tr>\n",
       "  </thead>\n",
       "  <tbody>\n",
       "    <tr>\n",
       "      <th>9067</th>\n",
       "      <td>214853420</td>\n",
       "      <td>8160</td>\n",
       "    </tr>\n",
       "  </tbody>\n",
       "</table>\n",
       "</div>"
      ],
      "text/plain": [
       "         itemID   cnt\n",
       "9067  214853420  8160"
      ]
     },
     "execution_count": 21,
     "metadata": {},
     "output_type": "execute_result"
    }
   ],
   "source": [
    "# choose top 1 selled items of august\n",
    "august_data_total_item_top1=august_data_total_item.head(1)\n",
    "august_data_total_item_top1\n"
   ]
  },
  {
   "cell_type": "code",
   "execution_count": 22,
   "metadata": {},
   "outputs": [
    {
     "data": {
      "text/html": [
       "<div>\n",
       "<style scoped>\n",
       "    .dataframe tbody tr th:only-of-type {\n",
       "        vertical-align: middle;\n",
       "    }\n",
       "\n",
       "    .dataframe tbody tr th {\n",
       "        vertical-align: top;\n",
       "    }\n",
       "\n",
       "    .dataframe thead th {\n",
       "        text-align: right;\n",
       "    }\n",
       "</style>\n",
       "<table border=\"1\" class=\"dataframe\">\n",
       "  <thead>\n",
       "    <tr style=\"text-align: right;\">\n",
       "      <th></th>\n",
       "      <th>itemID</th>\n",
       "      <th>cnt_april</th>\n",
       "      <th>cnt_august</th>\n",
       "    </tr>\n",
       "  </thead>\n",
       "  <tbody>\n",
       "    <tr>\n",
       "      <th>0</th>\n",
       "      <td>214717003</td>\n",
       "      <td>1413</td>\n",
       "      <td>1087</td>\n",
       "    </tr>\n",
       "    <tr>\n",
       "      <th>1</th>\n",
       "      <td>214716928</td>\n",
       "      <td>692</td>\n",
       "      <td>543</td>\n",
       "    </tr>\n",
       "    <tr>\n",
       "      <th>2</th>\n",
       "      <td>214716982</td>\n",
       "      <td>655</td>\n",
       "      <td>706</td>\n",
       "    </tr>\n",
       "  </tbody>\n",
       "</table>\n",
       "</div>"
      ],
      "text/plain": [
       "      itemID  cnt_april  cnt_august\n",
       "0  214717003       1413        1087\n",
       "1  214716928        692         543\n",
       "2  214716982        655         706"
      ]
     },
     "execution_count": 22,
     "metadata": {},
     "output_type": "execute_result"
    }
   ],
   "source": [
    "# Exact top 100 item in April and August,merge on itemid and find same itemID in two tables\n",
    "april_data_total_item_top100 = april_data_total_item.head(100)\n",
    "august_data_total_item_top100=august_data_total_item.head(100)\n",
    "merged_data = pd.merge(april_data_total_item_top100, august_data_total_item_top100, on='itemID', how='inner', suffixes=('_april', '_august'))\n",
    "merged_data"
   ]
  }
 ],
 "metadata": {
  "kernelspec": {
   "display_name": "Python 3 (ipykernel)",
   "language": "python",
   "name": "python3"
  },
  "language_info": {
   "codemirror_mode": {
    "name": "ipython",
    "version": 3
   },
   "file_extension": ".py",
   "mimetype": "text/x-python",
   "name": "python",
   "nbconvert_exporter": "python",
   "pygments_lexer": "ipython3",
   "version": "3.11.4"
  }
 },
 "nbformat": 4,
 "nbformat_minor": 2
}
