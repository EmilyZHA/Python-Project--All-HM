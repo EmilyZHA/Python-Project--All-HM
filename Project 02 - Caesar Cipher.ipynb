{
 "cells": [
  {
   "cell_type": "markdown",
   "metadata": {},
   "source": [
    "<div>\n",
    "    <img src=\"images/emlyon.png\" style=\"height:60px; float:left; padding-right:10px; margin-top:5px\" />\n",
    "    <span>\n",
    "        <h1 style=\"padding-bottom:5px;\"> Python BootCamp </h1>\n",
    "        <a href=\"https://masters.em-lyon.com/en/msc-in-digital-marketing-data-science\">[Emlyon]</a> MSc in Digital Marketing & Data Science (DMDS) <br/>\n",
    "         September 2023, Paris | © Saeed VARASTEH [RP] | Jean SAVINIEN\n",
    "    </span>\n",
    "</div>"
   ]
  },
  {
   "cell_type": "markdown",
   "metadata": {},
   "source": [
    "<div class=\"alert-info\" style=\"border-bottom: solid 1px lightgray; background-color:#fff4e3;\">\n",
    "    <img src=\"images/homework.png\" style=\"height:60px; float:left; padding-right:10px;\" />\n",
    "    <span style=\"font-weight:bold; color:#db9425\">\n",
    "        <h4 style=\"padding-top:25px;\"> HOMEWORK 02 </h4>\n",
    "    </span>\n",
    "</div>"
   ]
  },
  {
   "cell_type": "markdown",
   "metadata": {},
   "source": [
    "Make sure you read all the readings and content from the lectures on Brightspace.\n",
    "\n",
    "If you have worked with anyone, please enter their names below:"
   ]
  },
  {
   "cell_type": "code",
   "execution_count": null,
   "metadata": {},
   "outputs": [],
   "source": [
    "Names = \"\""
   ]
  },
  {
   "cell_type": "markdown",
   "metadata": {},
   "source": [
    "### Homework 02 - Caesar Cipher\n",
    "\n",
    "---"
   ]
  },
  {
   "cell_type": "markdown",
   "metadata": {},
   "source": [
    "__Background__\n",
    "\n",
    "The Caesar Cipher is a very simple encryption method that replaces each letter in a text by another letter which is specified by a given shift in the alphabet. The shift determines how many letters in the alphabet one should go ahead to find the replacement.\n",
    "\n",
    "Example:\n",
    "\n",
    "- The letter ”a” with shift 1 results in the letter ”b”.\n",
    "- The letter ”c” with shift 2 results in the letter ”e”.\n",
    "\n",
    "Negative shifting is also possible: \n",
    "\n",
    "- The letter ”f” with shift -1 results in the letter ”e”.\n",
    "\n",
    "When a letter would ”drop off” one end of the alphabet, we just start at the other end:\n",
    "\n",
    "- The letter ”z” with shift 1 results in the letter ”a”. \n",
    "- The letter ”a” with shift -3 results in the letter ”x”"
   ]
  },
  {
   "cell_type": "markdown",
   "metadata": {},
   "source": [
    "__Your Task__\n",
    "\n",
    "After years of working for the Secret Society of Secrets, you have finally gotten your hands on a secret message from the Evil League of Evil, and you want to decipher it. From your extensive studies of the League of Evil, you already know that they always encrypt their messages using the Caesar cipher. Your time is too precious to try every possible shift. \n",
    "\n",
    "You remember that some letters are more common than others in the English language, for example the letter \"e\" is the most common. Using this knowledge, you want to analyse the secret message and work out the key.\n",
    "\n",
    "To do this, follow these steps:\n",
    "\n",
    "1. Go through the given, encrypted string and count how often each letter appears. Save the result in an appropriate data structure.\n",
    "\n",
    "2. Find the most common letter in the secret message, knowing that ”e” is the most common letter in the English language, calculate the shift that was used to encrypt the message.\n",
    "\n",
    "Hint: You can use Python dictionary."
   ]
  },
  {
   "cell_type": "code",
   "execution_count": 3,
   "metadata": {},
   "outputs": [],
   "source": [
    "secret_message = \"\"\"Eholhyh lw ru qrw, brx kdyh fudfnhg wklv phvvdjh! Brx duh dv dzhvrph dv dqb rwkhu vwxghqw dw Hpobrq!\"\"\".lower()"
   ]
  },
  {
   "cell_type": "code",
   "execution_count": 4,
   "metadata": {},
   "outputs": [
    {
     "name": "stdout",
     "output_type": "stream",
     "text": [
      "eholhyh lw ru qrw, brx kdyh fudfnhg wklv phvvdjh! brx duh dv dzhvrph dv dqb rwkhu vwxghqw dw hpobrq!\n"
     ]
    }
   ],
   "source": [
    "print(secret_message)"
   ]
  },
  {
   "cell_type": "code",
   "execution_count": 18,
   "metadata": {},
   "outputs": [
    {
     "name": "stdout",
     "output_type": "stream",
     "text": [
      "Most common letter: h\n",
      "Shift used for encryption: 3\n"
     ]
    }
   ],
   "source": [
    "### your code here\n",
    "letter_amount = {}\n",
    "for letter in secret_message:\n",
    "    if letter.isalpha():  # Check if the character is a letter\n",
    "        if letter in letter_amount:\n",
    "            letter_amount[letter] += 1\n",
    "        else:\n",
    "            letter_amount[letter] = 1\n",
    "    \n",
    "most_common_letter = max(letter_amount, key=letter_amount.get)\n",
    "\n",
    "shift = ord(most_common_letter) - ord('e')\n",
    "\n",
    "print(\"Most common letter:\", most_common_letter)\n",
    "print(\"Shift used for encryption:\", shift)"
   ]
  },
  {
   "cell_type": "markdown",
   "metadata": {},
   "source": [
    "3. Decrypt the message: After you figure out the shift.\n",
    "\n",
    "You are now ready to write a function that will decrypt your secret message, based on the shift that was used."
   ]
  },
  {
   "cell_type": "code",
   "execution_count": null,
   "metadata": {},
   "outputs": [],
   "source": [
    "### your code here\n"
   ]
  },
  {
   "cell_type": "markdown",
   "metadata": {},
   "source": [
    "---"
   ]
  },
  {
   "cell_type": "code",
   "execution_count": null,
   "metadata": {},
   "outputs": [],
   "source": []
  }
 ],
 "metadata": {
  "kernelspec": {
   "display_name": "Python 3 (ipykernel)",
   "language": "python",
   "name": "python3"
  },
  "language_info": {
   "codemirror_mode": {
    "name": "ipython",
    "version": 3
   },
   "file_extension": ".py",
   "mimetype": "text/x-python",
   "name": "python",
   "nbconvert_exporter": "python",
   "pygments_lexer": "ipython3",
   "version": "3.11.4"
  }
 },
 "nbformat": 4,
 "nbformat_minor": 2
}
