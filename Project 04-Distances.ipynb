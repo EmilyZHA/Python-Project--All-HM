{
 "cells": [
  {
   "cell_type": "markdown",
   "metadata": {},
   "source": [
    "<div>\n",
    "    <img src=\"images/emlyon.png\" style=\"height:60px; float:left; padding-right:10px; margin-top:5px\" />\n",
    "    <span>\n",
    "        <h1 style=\"padding-bottom:5px;\"> Python BootCamp </h1>\n",
    "        <a href=\"https://masters.em-lyon.com/en/msc-in-digital-marketing-data-science\">[Emlyon]</a> MSc in Digital Marketing & Data Science (DMDS) <br/>\n",
    "         September 2023, Paris | © Saeed VARASTEH [RP] | Jean SAVINIEN\n",
    "    </span>\n",
    "</div>"
   ]
  },
  {
   "cell_type": "markdown",
   "metadata": {},
   "source": [
    "<div class=\"alert-info\" style=\"border-bottom: solid 1px lightgray; background-color:#fff4e3;\">\n",
    "    <img src=\"images/homework.png\" style=\"height:60px; float:left; padding-right:10px;\" />\n",
    "    <span style=\"font-weight:bold; color:#db9425\">\n",
    "        <h4 style=\"padding-top:25px;\"> HOMEWORK 04 </h4>\n",
    "    </span>\n",
    "</div>"
   ]
  },
  {
   "cell_type": "markdown",
   "metadata": {},
   "source": [
    "Make sure you read all the readings and content from the lectures on Brightspace.\n",
    "\n",
    "If you have worked with anyone, please enter their names below:"
   ]
  },
  {
   "cell_type": "code",
   "execution_count": 1,
   "metadata": {},
   "outputs": [],
   "source": [
    "Names = \"\""
   ]
  },
  {
   "cell_type": "markdown",
   "metadata": {},
   "source": [
    "### Homework 04 - Distances\n",
    "\n",
    "---"
   ]
  },
  {
   "cell_type": "markdown",
   "metadata": {
    "scrolled": true
   },
   "source": [
    "Read in the file __\"distances.txt\"__. It contains numbers with units meters (m), centimeters (cm) and millimeters (mm). Calculate the total distance in meters and print your result. i.e. convert all numbers into the same unit, cast them to floats and calculate the sum of all numbers."
   ]
  },
  {
   "cell_type": "code",
   "execution_count": 22,
   "metadata": {},
   "outputs": [
    {
     "name": "stdout",
     "output_type": "stream",
     "text": [
      "The total distance is 1718.366m.\n"
     ]
    }
   ],
   "source": [
    "my_file = open('data/distances.txt', 'r')# Open the distances.txt file in data folder(I copyed the distances file from exerices folder to data folder )\n",
    "distances = my_file.read().split()# Read the whole file,it is string. After split the string, it generates a list with number and unit separated.\n",
    "\n",
    "distances_sum = 0 # Set the original distances sum is 0\n",
    "\n",
    "for i in range(len(distances)): # For loop in the length the generated list\n",
    "    if distances[i].isdigit() and i < len(distances) - 1: #Go through the list from index 0 to length-1, if the list element is digit and not to the last element in the list\n",
    "        if distances[i + 1] == 'cm': # If the i index is digit and behind it is a unit'cm'\n",
    "            number_cm = float(distances[i]) # Change to float for the i index element\n",
    "            convert_cm = number_cm / 100 # From cm to m, we need devide by 100\n",
    "            distances_sum += convert_cm # Add up the number after converted to 'm' unit\n",
    "        elif distances[i + 1] == 'mm':\n",
    "            number_mm = float(distances[i]) # Change to float for the i index element\n",
    "            convert_mm = number_mm / 1000# From mm to m, we need devide by 1000\n",
    "            distances_sum += convert_mm #Add up the number after converted to 'm' unit\n",
    "        elif distances[i + 1] == 'm':\n",
    "            number_m = float(distances[i]) # Change to float for the i index element\n",
    "            convert_m = number_m # No need to change since it is same unit\n",
    "            distances_sum += convert_m # Add up the number \n",
    "\n",
    "print(f'The total distance is {distances_sum}m.')# output is :The total distance is 1718.336m.\n",
    "my_file.close()# at the end, the file need to be closed\n",
    "\n"
   ]
  },
  {
   "cell_type": "markdown",
   "metadata": {},
   "source": [
    "---"
   ]
  }
 ],
 "metadata": {
  "kernelspec": {
   "display_name": "Python 3 (ipykernel)",
   "language": "python",
   "name": "python3"
  },
  "language_info": {
   "codemirror_mode": {
    "name": "ipython",
    "version": 3
   },
   "file_extension": ".py",
   "mimetype": "text/x-python",
   "name": "python",
   "nbconvert_exporter": "python",
   "pygments_lexer": "ipython3",
   "version": "3.11.4"
  }
 },
 "nbformat": 4,
 "nbformat_minor": 2
}
